{
  "nbformat": 4,
  "nbformat_minor": 0,
  "metadata": {
    "colab": {
      "provenance": []
    },
    "kernelspec": {
      "name": "python3",
      "display_name": "Python 3"
    },
    "language_info": {
      "name": "python"
    }
  },
  "cells": [
    {
      "cell_type": "markdown",
      "source": [
        "**Goal**: Build an AI agent that visualizes the carbon footprint in 2 by 2 quadrant based on the person's lifestyle choices.\n",
        "\n",
        "**Agenda**: Use Mistral AI LLM model and build the agent using LangGraph agentic framework."
      ],
      "metadata": {
        "id": "HywWW8SUtBma"
      }
    },
    {
      "cell_type": "markdown",
      "source": [
        "**Install all necessary packages**"
      ],
      "metadata": {
        "id": "wIwuPR4ctBZW"
      }
    },
    {
      "cell_type": "code",
      "execution_count": null,
      "metadata": {
        "colab": {
          "base_uri": "https://localhost:8080/"
        },
        "id": "sslLK8_D7IuF",
        "outputId": "097e4799-a0ca-47e5-8632-c9b5dabae157"
      },
      "outputs": [
        {
          "output_type": "stream",
          "name": "stdout",
          "text": [
            "Collecting langchain-community\n",
            "  Downloading langchain_community-0.3.29-py3-none-any.whl.metadata (2.9 kB)\n",
            "Collecting langgraph\n",
            "  Downloading langgraph-0.6.7-py3-none-any.whl.metadata (6.8 kB)\n",
            "Collecting langchain-anthropic\n",
            "  Downloading langchain_anthropic-0.3.20-py3-none-any.whl.metadata (1.9 kB)\n",
            "Collecting tavily-python\n",
            "  Downloading tavily_python-0.7.12-py3-none-any.whl.metadata (7.5 kB)\n",
            "Collecting langgraph-checkpoint-sqlite\n",
            "  Downloading langgraph_checkpoint_sqlite-2.0.11-py3-none-any.whl.metadata (2.6 kB)\n",
            "Requirement already satisfied: langchain-core<2.0.0,>=0.3.75 in /usr/local/lib/python3.12/dist-packages (from langchain-community) (0.3.75)\n",
            "Requirement already satisfied: langchain<2.0.0,>=0.3.27 in /usr/local/lib/python3.12/dist-packages (from langchain-community) (0.3.27)\n",
            "Requirement already satisfied: SQLAlchemy<3,>=1.4 in /usr/local/lib/python3.12/dist-packages (from langchain-community) (2.0.43)\n",
            "Collecting requests<3,>=2.32.5 (from langchain-community)\n",
            "  Downloading requests-2.32.5-py3-none-any.whl.metadata (4.9 kB)\n",
            "Requirement already satisfied: PyYAML>=5.3 in /usr/local/lib/python3.12/dist-packages (from langchain-community) (6.0.2)\n",
            "Requirement already satisfied: aiohttp<4.0.0,>=3.8.3 in /usr/local/lib/python3.12/dist-packages (from langchain-community) (3.12.15)\n",
            "Requirement already satisfied: tenacity!=8.4.0,<10,>=8.1.0 in /usr/local/lib/python3.12/dist-packages (from langchain-community) (8.5.0)\n",
            "Collecting dataclasses-json<0.7,>=0.6.7 (from langchain-community)\n",
            "  Downloading dataclasses_json-0.6.7-py3-none-any.whl.metadata (25 kB)\n",
            "Requirement already satisfied: pydantic-settings<3.0.0,>=2.10.1 in /usr/local/lib/python3.12/dist-packages (from langchain-community) (2.10.1)\n",
            "Requirement already satisfied: langsmith>=0.1.125 in /usr/local/lib/python3.12/dist-packages (from langchain-community) (0.4.24)\n",
            "Requirement already satisfied: httpx-sse<1.0.0,>=0.4.0 in /usr/local/lib/python3.12/dist-packages (from langchain-community) (0.4.1)\n",
            "Requirement already satisfied: numpy>=1.26.2 in /usr/local/lib/python3.12/dist-packages (from langchain-community) (2.0.2)\n",
            "Collecting langgraph-checkpoint<3.0.0,>=2.1.0 (from langgraph)\n",
            "  Downloading langgraph_checkpoint-2.1.1-py3-none-any.whl.metadata (4.2 kB)\n",
            "Collecting langgraph-prebuilt<0.7.0,>=0.6.0 (from langgraph)\n",
            "  Downloading langgraph_prebuilt-0.6.4-py3-none-any.whl.metadata (4.5 kB)\n",
            "Collecting langgraph-sdk<0.3.0,>=0.2.2 (from langgraph)\n",
            "  Downloading langgraph_sdk-0.2.6-py3-none-any.whl.metadata (1.5 kB)\n",
            "Requirement already satisfied: pydantic>=2.7.4 in /usr/local/lib/python3.12/dist-packages (from langgraph) (2.11.7)\n",
            "Requirement already satisfied: xxhash>=3.5.0 in /usr/local/lib/python3.12/dist-packages (from langgraph) (3.5.0)\n",
            "Collecting anthropic<1,>=0.67.0 (from langchain-anthropic)\n",
            "  Downloading anthropic-0.67.0-py3-none-any.whl.metadata (27 kB)\n",
            "Collecting langchain-core<2.0.0,>=0.3.75 (from langchain-community)\n",
            "  Downloading langchain_core-0.3.76-py3-none-any.whl.metadata (3.7 kB)\n",
            "Requirement already satisfied: tiktoken>=0.5.1 in /usr/local/lib/python3.12/dist-packages (from tavily-python) (0.11.0)\n",
            "Requirement already satisfied: httpx in /usr/local/lib/python3.12/dist-packages (from tavily-python) (0.28.1)\n",
            "Collecting aiosqlite>=0.20 (from langgraph-checkpoint-sqlite)\n",
            "  Downloading aiosqlite-0.21.0-py3-none-any.whl.metadata (4.3 kB)\n",
            "Collecting sqlite-vec>=0.1.6 (from langgraph-checkpoint-sqlite)\n",
            "  Downloading sqlite_vec-0.1.6-py3-none-manylinux_2_17_x86_64.manylinux2014_x86_64.manylinux1_x86_64.whl.metadata (198 bytes)\n",
            "Requirement already satisfied: aiohappyeyeballs>=2.5.0 in /usr/local/lib/python3.12/dist-packages (from aiohttp<4.0.0,>=3.8.3->langchain-community) (2.6.1)\n",
            "Requirement already satisfied: aiosignal>=1.4.0 in /usr/local/lib/python3.12/dist-packages (from aiohttp<4.0.0,>=3.8.3->langchain-community) (1.4.0)\n",
            "Requirement already satisfied: attrs>=17.3.0 in /usr/local/lib/python3.12/dist-packages (from aiohttp<4.0.0,>=3.8.3->langchain-community) (25.3.0)\n",
            "Requirement already satisfied: frozenlist>=1.1.1 in /usr/local/lib/python3.12/dist-packages (from aiohttp<4.0.0,>=3.8.3->langchain-community) (1.7.0)\n",
            "Requirement already satisfied: multidict<7.0,>=4.5 in /usr/local/lib/python3.12/dist-packages (from aiohttp<4.0.0,>=3.8.3->langchain-community) (6.6.4)\n",
            "Requirement already satisfied: propcache>=0.2.0 in /usr/local/lib/python3.12/dist-packages (from aiohttp<4.0.0,>=3.8.3->langchain-community) (0.3.2)\n",
            "Requirement already satisfied: yarl<2.0,>=1.17.0 in /usr/local/lib/python3.12/dist-packages (from aiohttp<4.0.0,>=3.8.3->langchain-community) (1.20.1)\n",
            "Requirement already satisfied: typing_extensions>=4.0 in /usr/local/lib/python3.12/dist-packages (from aiosqlite>=0.20->langgraph-checkpoint-sqlite) (4.15.0)\n",
            "Requirement already satisfied: anyio<5,>=3.5.0 in /usr/local/lib/python3.12/dist-packages (from anthropic<1,>=0.67.0->langchain-anthropic) (4.10.0)\n",
            "Requirement already satisfied: distro<2,>=1.7.0 in /usr/local/lib/python3.12/dist-packages (from anthropic<1,>=0.67.0->langchain-anthropic) (1.9.0)\n",
            "Requirement already satisfied: jiter<1,>=0.4.0 in /usr/local/lib/python3.12/dist-packages (from anthropic<1,>=0.67.0->langchain-anthropic) (0.10.0)\n",
            "Requirement already satisfied: sniffio in /usr/local/lib/python3.12/dist-packages (from anthropic<1,>=0.67.0->langchain-anthropic) (1.3.1)\n",
            "Collecting marshmallow<4.0.0,>=3.18.0 (from dataclasses-json<0.7,>=0.6.7->langchain-community)\n",
            "  Downloading marshmallow-3.26.1-py3-none-any.whl.metadata (7.3 kB)\n",
            "Collecting typing-inspect<1,>=0.4.0 (from dataclasses-json<0.7,>=0.6.7->langchain-community)\n",
            "  Downloading typing_inspect-0.9.0-py3-none-any.whl.metadata (1.5 kB)\n",
            "Requirement already satisfied: certifi in /usr/local/lib/python3.12/dist-packages (from httpx->tavily-python) (2025.8.3)\n",
            "Requirement already satisfied: httpcore==1.* in /usr/local/lib/python3.12/dist-packages (from httpx->tavily-python) (1.0.9)\n",
            "Requirement already satisfied: idna in /usr/local/lib/python3.12/dist-packages (from httpx->tavily-python) (3.10)\n",
            "Requirement already satisfied: h11>=0.16 in /usr/local/lib/python3.12/dist-packages (from httpcore==1.*->httpx->tavily-python) (0.16.0)\n",
            "Requirement already satisfied: langchain-text-splitters<1.0.0,>=0.3.9 in /usr/local/lib/python3.12/dist-packages (from langchain<2.0.0,>=0.3.27->langchain-community) (0.3.11)\n",
            "Requirement already satisfied: jsonpatch<2.0,>=1.33 in /usr/local/lib/python3.12/dist-packages (from langchain-core<2.0.0,>=0.3.75->langchain-community) (1.33)\n",
            "Requirement already satisfied: packaging>=23.2 in /usr/local/lib/python3.12/dist-packages (from langchain-core<2.0.0,>=0.3.75->langchain-community) (25.0)\n",
            "Collecting ormsgpack>=1.10.0 (from langgraph-checkpoint<3.0.0,>=2.1.0->langgraph)\n",
            "  Downloading ormsgpack-1.10.0-cp312-cp312-manylinux_2_17_x86_64.manylinux2014_x86_64.whl.metadata (43 kB)\n",
            "\u001b[2K     \u001b[90m━━━━━━━━━━━━━━━━━━━━━━━━━━━━━━━━━━━━━━━━\u001b[0m \u001b[32m43.7/43.7 kB\u001b[0m \u001b[31m2.9 MB/s\u001b[0m eta \u001b[36m0:00:00\u001b[0m\n",
            "\u001b[?25hRequirement already satisfied: orjson>=3.10.1 in /usr/local/lib/python3.12/dist-packages (from langgraph-sdk<0.3.0,>=0.2.2->langgraph) (3.11.3)\n",
            "Requirement already satisfied: requests-toolbelt>=1.0.0 in /usr/local/lib/python3.12/dist-packages (from langsmith>=0.1.125->langchain-community) (1.0.0)\n",
            "Requirement already satisfied: zstandard>=0.23.0 in /usr/local/lib/python3.12/dist-packages (from langsmith>=0.1.125->langchain-community) (0.24.0)\n",
            "Requirement already satisfied: annotated-types>=0.6.0 in /usr/local/lib/python3.12/dist-packages (from pydantic>=2.7.4->langgraph) (0.7.0)\n",
            "Requirement already satisfied: pydantic-core==2.33.2 in /usr/local/lib/python3.12/dist-packages (from pydantic>=2.7.4->langgraph) (2.33.2)\n",
            "Requirement already satisfied: typing-inspection>=0.4.0 in /usr/local/lib/python3.12/dist-packages (from pydantic>=2.7.4->langgraph) (0.4.1)\n",
            "Requirement already satisfied: python-dotenv>=0.21.0 in /usr/local/lib/python3.12/dist-packages (from pydantic-settings<3.0.0,>=2.10.1->langchain-community) (1.1.1)\n",
            "Requirement already satisfied: charset_normalizer<4,>=2 in /usr/local/lib/python3.12/dist-packages (from requests<3,>=2.32.5->langchain-community) (3.4.3)\n",
            "Requirement already satisfied: urllib3<3,>=1.21.1 in /usr/local/lib/python3.12/dist-packages (from requests<3,>=2.32.5->langchain-community) (2.5.0)\n",
            "Requirement already satisfied: greenlet>=1 in /usr/local/lib/python3.12/dist-packages (from SQLAlchemy<3,>=1.4->langchain-community) (3.2.4)\n",
            "Requirement already satisfied: regex>=2022.1.18 in /usr/local/lib/python3.12/dist-packages (from tiktoken>=0.5.1->tavily-python) (2024.11.6)\n",
            "Requirement already satisfied: jsonpointer>=1.9 in /usr/local/lib/python3.12/dist-packages (from jsonpatch<2.0,>=1.33->langchain-core<2.0.0,>=0.3.75->langchain-community) (3.0.0)\n",
            "Collecting mypy-extensions>=0.3.0 (from typing-inspect<1,>=0.4.0->dataclasses-json<0.7,>=0.6.7->langchain-community)\n",
            "  Downloading mypy_extensions-1.1.0-py3-none-any.whl.metadata (1.1 kB)\n",
            "Downloading langchain_community-0.3.29-py3-none-any.whl (2.5 MB)\n",
            "\u001b[2K   \u001b[90m━━━━━━━━━━━━━━━━━━━━━━━━━━━━━━━━━━━━━━━━\u001b[0m \u001b[32m2.5/2.5 MB\u001b[0m \u001b[31m33.7 MB/s\u001b[0m eta \u001b[36m0:00:00\u001b[0m\n",
            "\u001b[?25hDownloading langgraph-0.6.7-py3-none-any.whl (153 kB)\n",
            "\u001b[2K   \u001b[90m━━━━━━━━━━━━━━━━━━━━━━━━━━━━━━━━━━━━━━━━\u001b[0m \u001b[32m153.3/153.3 kB\u001b[0m \u001b[31m8.8 MB/s\u001b[0m eta \u001b[36m0:00:00\u001b[0m\n",
            "\u001b[?25hDownloading langchain_anthropic-0.3.20-py3-none-any.whl (31 kB)\n",
            "Downloading tavily_python-0.7.12-py3-none-any.whl (15 kB)\n",
            "Downloading langgraph_checkpoint_sqlite-2.0.11-py3-none-any.whl (31 kB)\n",
            "Downloading aiosqlite-0.21.0-py3-none-any.whl (15 kB)\n",
            "Downloading anthropic-0.67.0-py3-none-any.whl (317 kB)\n",
            "\u001b[2K   \u001b[90m━━━━━━━━━━━━━━━━━━━━━━━━━━━━━━━━━━━━━━━━\u001b[0m \u001b[32m317.1/317.1 kB\u001b[0m \u001b[31m21.9 MB/s\u001b[0m eta \u001b[36m0:00:00\u001b[0m\n",
            "\u001b[?25hDownloading dataclasses_json-0.6.7-py3-none-any.whl (28 kB)\n",
            "Downloading langchain_core-0.3.76-py3-none-any.whl (447 kB)\n",
            "\u001b[2K   \u001b[90m━━━━━━━━━━━━━━━━━━━━━━━━━━━━━━━━━━━━━━━━\u001b[0m \u001b[32m447.5/447.5 kB\u001b[0m \u001b[31m17.4 MB/s\u001b[0m eta \u001b[36m0:00:00\u001b[0m\n",
            "\u001b[?25hDownloading langgraph_checkpoint-2.1.1-py3-none-any.whl (43 kB)\n",
            "\u001b[2K   \u001b[90m━━━━━━━━━━━━━━━━━━━━━━━━━━━━━━━━━━━━━━━━\u001b[0m \u001b[32m43.9/43.9 kB\u001b[0m \u001b[31m1.1 MB/s\u001b[0m eta \u001b[36m0:00:00\u001b[0m\n",
            "\u001b[?25hDownloading langgraph_prebuilt-0.6.4-py3-none-any.whl (28 kB)\n",
            "Downloading langgraph_sdk-0.2.6-py3-none-any.whl (54 kB)\n",
            "\u001b[2K   \u001b[90m━━━━━━━━━━━━━━━━━━━━━━━━━━━━━━━━━━━━━━━━\u001b[0m \u001b[32m54.6/54.6 kB\u001b[0m \u001b[31m1.9 MB/s\u001b[0m eta \u001b[36m0:00:00\u001b[0m\n",
            "\u001b[?25hDownloading requests-2.32.5-py3-none-any.whl (64 kB)\n",
            "\u001b[2K   \u001b[90m━━━━━━━━━━━━━━━━━━━━━━━━━━━━━━━━━━━━━━━━\u001b[0m \u001b[32m64.7/64.7 kB\u001b[0m \u001b[31m4.1 MB/s\u001b[0m eta \u001b[36m0:00:00\u001b[0m\n",
            "\u001b[?25hDownloading sqlite_vec-0.1.6-py3-none-manylinux_2_17_x86_64.manylinux2014_x86_64.manylinux1_x86_64.whl (151 kB)\n",
            "\u001b[2K   \u001b[90m━━━━━━━━━━━━━━━━━━━━━━━━━━━━━━━━━━━━━━━━\u001b[0m \u001b[32m151.6/151.6 kB\u001b[0m \u001b[31m11.5 MB/s\u001b[0m eta \u001b[36m0:00:00\u001b[0m\n",
            "\u001b[?25hDownloading marshmallow-3.26.1-py3-none-any.whl (50 kB)\n",
            "\u001b[2K   \u001b[90m━━━━━━━━━━━━━━━━━━━━━━━━━━━━━━━━━━━━━━━━\u001b[0m \u001b[32m50.9/50.9 kB\u001b[0m \u001b[31m2.2 MB/s\u001b[0m eta \u001b[36m0:00:00\u001b[0m\n",
            "\u001b[?25hDownloading ormsgpack-1.10.0-cp312-cp312-manylinux_2_17_x86_64.manylinux2014_x86_64.whl (216 kB)\n",
            "\u001b[2K   \u001b[90m━━━━━━━━━━━━━━━━━━━━━━━━━━━━━━━━━━━━━━━━\u001b[0m \u001b[32m216.7/216.7 kB\u001b[0m \u001b[31m12.2 MB/s\u001b[0m eta \u001b[36m0:00:00\u001b[0m\n",
            "\u001b[?25hDownloading typing_inspect-0.9.0-py3-none-any.whl (8.8 kB)\n",
            "Downloading mypy_extensions-1.1.0-py3-none-any.whl (5.0 kB)\n",
            "Installing collected packages: sqlite-vec, requests, ormsgpack, mypy-extensions, marshmallow, aiosqlite, typing-inspect, tavily-python, langgraph-sdk, dataclasses-json, anthropic, langchain-core, langgraph-checkpoint, langchain-anthropic, langgraph-prebuilt, langgraph-checkpoint-sqlite, langgraph, langchain-community\n",
            "  Attempting uninstall: requests\n",
            "    Found existing installation: requests 2.32.4\n",
            "    Uninstalling requests-2.32.4:\n",
            "      Successfully uninstalled requests-2.32.4\n",
            "  Attempting uninstall: langchain-core\n",
            "    Found existing installation: langchain-core 0.3.75\n",
            "    Uninstalling langchain-core-0.3.75:\n",
            "      Successfully uninstalled langchain-core-0.3.75\n",
            "\u001b[31mERROR: pip's dependency resolver does not currently take into account all the packages that are installed. This behaviour is the source of the following dependency conflicts.\n",
            "google-colab 1.0.0 requires requests==2.32.4, but you have requests 2.32.5 which is incompatible.\u001b[0m\u001b[31m\n",
            "\u001b[0mSuccessfully installed aiosqlite-0.21.0 anthropic-0.67.0 dataclasses-json-0.6.7 langchain-anthropic-0.3.20 langchain-community-0.3.29 langchain-core-0.3.76 langgraph-0.6.7 langgraph-checkpoint-2.1.1 langgraph-checkpoint-sqlite-2.0.11 langgraph-prebuilt-0.6.4 langgraph-sdk-0.2.6 marshmallow-3.26.1 mypy-extensions-1.1.0 ormsgpack-1.10.0 requests-2.32.5 sqlite-vec-0.1.6 tavily-python-0.7.12 typing-inspect-0.9.0\n"
          ]
        }
      ],
      "source": [
        "!pip install -U langchain-community langgraph langchain-anthropic tavily-python langgraph-checkpoint-sqlite"
      ]
    },
    {
      "cell_type": "code",
      "source": [
        "!pip install -qU \"langchain[mistralai]\""
      ],
      "metadata": {
        "id": "6YuMnKW57KGL"
      },
      "execution_count": null,
      "outputs": []
    },
    {
      "cell_type": "markdown",
      "source": [
        "**Import necessary packages**"
      ],
      "metadata": {
        "id": "KZDjtegQy8Yr"
      }
    },
    {
      "cell_type": "code",
      "source": [
        "import requests\n",
        "import json\n",
        "import os\n",
        "from collections import Counter\n",
        "from langgraph.graph import StateGraph, END\n",
        "from typing import TypedDict, Annotated\n",
        "import operator\n",
        "from langchain_core.messages import AnyMessage, SystemMessage, HumanMessage, ToolMessage, AIMessage\n",
        "from langchain_community.tools.tavily_search import TavilySearchResults\n",
        "from langchain.chat_models import init_chat_model\n",
        "import gradio as gr\n",
        "from langchain.schema import HumanMessage\n",
        "from langchain.tools import tool"
      ],
      "metadata": {
        "id": "pkDVJeLs7KJi"
      },
      "execution_count": null,
      "outputs": []
    },
    {
      "cell_type": "markdown",
      "source": [
        "**Get and set the Mistral API key**"
      ],
      "metadata": {
        "id": "SeG4PdW-ym5o"
      }
    },
    {
      "cell_type": "code",
      "source": [
        "os.environ[\"MISTRAL_API_KEY\"] = \"MISTRAL_API_KEY\""
      ],
      "metadata": {
        "id": "7cup-3y97KM7"
      },
      "execution_count": null,
      "outputs": []
    },
    {
      "cell_type": "markdown",
      "source": [
        "**Create a tool that classifies lifestyle choices and generates the 2 x 2 quadrant image**"
      ],
      "metadata": {
        "id": "iWilk3MtzFnf"
      }
    },
    {
      "cell_type": "code",
      "source": [
        "import matplotlib.pyplot as plt\n",
        "from typing import List, Dict\n",
        "import json\n",
        "import random\n",
        "import math\n",
        "\n",
        "@tool\n",
        "def climate_impact_compass(choices: List[str], llm_response: str) -> Dict:\n",
        "    \"\"\"\n",
        "    Classifies lifestyle choices into a Climate Impact Compass using an LLM output.\n",
        "\n",
        "    Axes:\n",
        "        X-axis = Easy to Change (-1) <-> Hard to Change (+1)\n",
        "        Y-axis = Low CO₂ Footprint (-1) <-> High CO₂ Footprint (+1)\n",
        "\n",
        "    Args:\n",
        "        choices (List[str]): (Optional) original list of choices.\n",
        "        llm_response (str): Raw JSON string returned from the LLM.\n",
        "                            Expected format:\n",
        "                            {\n",
        "                              \"choice_1\": [x, y],\n",
        "                              \"choice_2\": [x, y]\n",
        "                            }\n",
        "                            x and y are floats in [-1, 1].\n",
        "    Returns:\n",
        "        Dict: {\n",
        "            \"classifications\": { item: [x, y], ... },\n",
        "            \"visualization\": \"climate_compass.png\"\n",
        "        }\n",
        "    \"\"\"\n",
        "\n",
        "    # ------------------------------\n",
        "    # Parse LLM response\n",
        "    # ------------------------------\n",
        "    try:\n",
        "        classifications = json.loads(llm_response)\n",
        "        if not isinstance(classifications, dict):\n",
        "            raise ValueError(\"LLM output JSON must be a dict mapping item -> [x,y].\")\n",
        "    except Exception as e:\n",
        "        return {\"error\": f\"Failed to parse LLM output: {str(e)}\", \"raw\": llm_response}\n",
        "\n",
        "    # ------------------------------\n",
        "    # Function to place points safely inside a quadrant\n",
        "    # ------------------------------\n",
        "    def random_point_in_quadrant(qx, qy, safe_distance=0.08, attempts=100):\n",
        "        for _ in range(attempts):\n",
        "            x = random.uniform(0, 1) if qx > 0 else random.uniform(-1, 0)\n",
        "            y = random.uniform(0, 1) if qy > 0 else random.uniform(-1, 0)\n",
        "            # check against existing points\n",
        "            collision = False\n",
        "            for ox, oy in seen_points:\n",
        "                if math.hypot(x - ox, y - oy) < safe_distance:\n",
        "                    collision = True\n",
        "                    break\n",
        "            if not collision:\n",
        "                seen_points.append((x, y))\n",
        "                return x, y\n",
        "        # fallback in case all attempts fail\n",
        "        x = random.uniform(0, 1) if qx > 0 else random.uniform(-1, 0)\n",
        "        y = random.uniform(0, 1) if qy > 0 else random.uniform(-1, 0)\n",
        "        seen_points.append((x, y))\n",
        "        return x, y\n",
        "\n",
        "    # ------------------------------\n",
        "    # Assign adjusted coordinates\n",
        "    # ------------------------------\n",
        "    adjusted_classifications = {}\n",
        "    quadrant_groups = {}\n",
        "    for item, coords in classifications.items():\n",
        "        qx = 1 if coords[0] >= 0 else -1\n",
        "        qy = 1 if coords[1] >= 0 else -1\n",
        "        quadrant_groups.setdefault((qx, qy), []).append(item)\n",
        "\n",
        "    seen_points = []\n",
        "    for (qx, qy), items in quadrant_groups.items():\n",
        "        for item in items:\n",
        "            x, y = random_point_in_quadrant(qx, qy, safe_distance=0.08)\n",
        "            adjusted_classifications[item] = [x, y]\n",
        "\n",
        "    # ------------------------------\n",
        "    # Visualization\n",
        "    # ------------------------------\n",
        "    fig, ax = plt.subplots(figsize=(7, 7))\n",
        "    ax.axhline(0, color=\"gray\", linewidth=1, zorder=0)\n",
        "    ax.axvline(0, color=\"gray\", linewidth=1, zorder=0)\n",
        "\n",
        "    # Axis labels\n",
        "    ax.text(0, 1.12, \"High CO₂ Footprint\", ha=\"center\", va=\"bottom\", fontsize=11)\n",
        "    ax.text(0, -1.12, \"Low CO₂ Footprint\", ha=\"center\", va=\"top\", fontsize=11)\n",
        "    ax.text(-1.12, 0, \"Easy to Change\", ha=\"right\", va=\"center\", fontsize=11)\n",
        "    ax.text(1.12, 0, \"Hard to Change\", ha=\"left\", va=\"center\", fontsize=11)\n",
        "\n",
        "    # Color scheme for quadrants\n",
        "    def quadrant_color(x, y):\n",
        "        qx = 1 if x >= 0 else -1\n",
        "        qy = 1 if y >= 0 else -1\n",
        "        if qx == 1 and qy == 1:\n",
        "            return \"red\"      # high footprint, hard to change\n",
        "        if qx == -1 and qy == 1:\n",
        "            return \"orange\"   # high footprint, easy to change\n",
        "        if qx == -1 and qy == -1:\n",
        "            return \"green\"    # low footprint, easy to change\n",
        "        return \"blue\"        # low footprint, hard to change\n",
        "\n",
        "    # Plot dots\n",
        "    for item, (x, y) in adjusted_classifications.items():\n",
        "        color = quadrant_color(x, y)\n",
        "        ax.scatter(x, y, color=color, s=90, edgecolors=\"black\", zorder=3)\n",
        "\n",
        "    # Plot labels with small offset\n",
        "    delta = 0.06\n",
        "    for item, (x, y) in adjusted_classifications.items():\n",
        "        lx = x + delta if x >= 0 else x - delta\n",
        "        ly = y + delta if y >= 0 else y - delta\n",
        "        ax.annotate(\n",
        "            item,\n",
        "            xy=(x, y),\n",
        "            xytext=(lx, ly),\n",
        "            textcoords=\"data\",\n",
        "            ha=\"left\" if lx >= x else \"right\",\n",
        "            va=\"bottom\" if ly >= y else \"top\",\n",
        "            fontsize=9,\n",
        "            zorder=4,\n",
        "            arrowprops=dict(arrowstyle=\"-\", linewidth=0.6, color=\"gray\", alpha=0.7)\n",
        "        )\n",
        "\n",
        "    # Legend\n",
        "    import matplotlib.lines as mlines\n",
        "    legend_elements = [\n",
        "        mlines.Line2D([], [], marker='o', color='w', markerfacecolor='red', label='High footprint, hard to change', markeredgecolor=\"black\", markersize=10),\n",
        "        mlines.Line2D([], [], marker='o', color='w', markerfacecolor='orange', label='High footprint, easy to change', markeredgecolor=\"black\", markersize=10),\n",
        "        mlines.Line2D([], [], marker='o', color='w', markerfacecolor='green', label='Low footprint, easy to change', markeredgecolor=\"black\", markersize=10),\n",
        "        mlines.Line2D([], [], marker='o', color='w', markerfacecolor='blue', label='Low footprint, hard to change', markeredgecolor=\"black\", markersize=10),\n",
        "    ]\n",
        "    ax.legend(handles=legend_elements, loc=\"lower center\", bbox_to_anchor=(0.5, -0.12), ncol=2, fontsize=9)\n",
        "\n",
        "    ax.set_xlim(-1.2, 1.2)\n",
        "    ax.set_ylim(-1.2, 1.2)\n",
        "    ax.axis(\"off\")\n",
        "\n",
        "    output_path = \"/tmp/climate_compass.png\"\n",
        "    plt.savefig(output_path, bbox_inches=\"tight\", dpi=150)\n",
        "    plt.close(fig)\n",
        "\n",
        "    return output_path"
      ],
      "metadata": {
        "id": "FxVU4w-17KQO"
      },
      "execution_count": null,
      "outputs": []
    },
    {
      "cell_type": "markdown",
      "source": [
        "**Defining the State**"
      ],
      "metadata": {
        "id": "eICWQQEh0zMc"
      }
    },
    {
      "cell_type": "code",
      "source": [
        "class AgentState(TypedDict):\n",
        "    messages: Annotated[list[AnyMessage], operator.add]"
      ],
      "metadata": {
        "id": "DcokIXDt7KTO"
      },
      "execution_count": null,
      "outputs": []
    },
    {
      "cell_type": "markdown",
      "source": [
        "**Define the Class Agent and build the LangGraph nodes and edges**"
      ],
      "metadata": {
        "id": "3I53xNs71J3U"
      }
    },
    {
      "cell_type": "code",
      "source": [
        "class Agent:\n",
        "\n",
        "    def __init__(self, model, tools, system=\"\"):\n",
        "        self.system = system\n",
        "        graph = StateGraph(AgentState)\n",
        "        graph.add_node(\"llm\", self.call_mistral_ai)\n",
        "        graph.add_node(\"action\", self.take_action)\n",
        "        graph.add_node(\"final\", self.final_answer)\n",
        "        graph.add_conditional_edges(\n",
        "            \"llm\",\n",
        "            self.exists_action,\n",
        "            {True: \"action\", False: END}\n",
        "        )\n",
        "        graph.add_edge(\"action\", \"final\")  # 🆕\n",
        "        graph.add_edge(\"final\", END)\n",
        "        graph.set_entry_point(\"llm\")       # 🆕\n",
        "        self.graph = graph.compile()\n",
        "        self.tools = {t.name: t for t in tools}\n",
        "        self.model = model.bind_tools(tools)\n",
        "\n",
        "    def exists_action(self, state: AgentState):\n",
        "        result = state['messages'][-1]\n",
        "        return len(result.tool_calls) > 0\n",
        "\n",
        "    def call_mistral_ai(self, state: AgentState):\n",
        "        messages = state['messages']\n",
        "        if self.system:\n",
        "            messages = [SystemMessage(content=self.system)] + messages\n",
        "        message = self.model.invoke(messages)\n",
        "        return {'messages': [message]}\n",
        "\n",
        "    def take_action(self, state: AgentState):\n",
        "        tool_calls = state['messages'][-1].tool_calls\n",
        "        results = []\n",
        "        for t in tool_calls:\n",
        "            print(f\"Calling: {t}\")\n",
        "            if not t['name'] in self.tools:      # check for bad tool name from LLM\n",
        "                print(\"\\n ....bad tool name....\")\n",
        "                result = \"bad tool name, retry\"  # instruct LLM to retry if bad\n",
        "            else:\n",
        "                result = self.tools[t['name']].invoke(t['args'])\n",
        "            results.append(ToolMessage(tool_call_id=t['id'], name=t['name'], content=str(result)))\n",
        "        print(\"Back to the model!\")\n",
        "        return {'messages': results}\n",
        "\n",
        "    def final_answer(self, state: AgentState):\n",
        "        \"\"\"Return the final tool output cleanly.\"\"\"\n",
        "        return {\"messages\": [AIMessage(content=state['messages'][-1].content.strip())]}"
      ],
      "metadata": {
        "id": "reZ56Ypt7KWz"
      },
      "execution_count": null,
      "outputs": []
    },
    {
      "cell_type": "markdown",
      "source": [
        "**Define the system prompt and model**"
      ],
      "metadata": {
        "id": "dMg7Rh3-1rZP"
      }
    },
    {
      "cell_type": "code",
      "source": [
        "prompt = prompt = prompt = \"\"\"\n",
        "You are a Sustainability Advisor. Your task is to help users understand the climate impact of their lifestyle choices.\n",
        "\n",
        "You MUST use the available tool `climate_impact_compass` to classify each choice into the Climate Impact Compass:\n",
        "- X-axis: Easy to Change (-1) <-> Hard to Change (+1)\n",
        "- Y-axis: Low CO₂ Footprint (-1) <-> High CO₂ Footprint (+1)\n",
        "\n",
        "⚠️ Important Rules:\n",
        "1. Only two values are allowed per axis: -1 or +1 (no \"moderate\", \"medium\", or decimals).\n",
        "2. Always call the tool to create classifications and generate the visualization.\n",
        "\"\"\"\n",
        "\n",
        "\n",
        "model = init_chat_model(\"mistral-large-latest\", model_provider=\"mistralai\")\n",
        "abot = Agent(model, [climate_impact_compass], system=prompt)"
      ],
      "metadata": {
        "id": "4YPJ_s_A7KaC"
      },
      "execution_count": null,
      "outputs": []
    },
    {
      "cell_type": "markdown",
      "source": [
        "**Invoke the graph and test it with simple prompt**"
      ],
      "metadata": {
        "id": "Ejsk0dcp1u4q"
      }
    },
    {
      "cell_type": "code",
      "source": [
        "messages = [HumanMessage(content=\"I always walk to supermarket, I take bicycle to office, Having a well-insulated, energy-efficient home, I use water heater at home\")]\n",
        "result = abot.graph.invoke({\"messages\": messages})"
      ],
      "metadata": {
        "colab": {
          "base_uri": "https://localhost:8080/"
        },
        "id": "hRFlpPbq7Kdi",
        "outputId": "ebe106ad-2068-4bab-eb53-c03251d70b99"
      },
      "execution_count": null,
      "outputs": [
        {
          "output_type": "stream",
          "name": "stdout",
          "text": [
            "Calling: {'name': 'climate_impact_compass', 'args': {'choices': ['I always walk to supermarket', 'I take bicycle to office', 'Having a well-insulated, energy-efficient home', 'I use water heater at home'], 'llm_response': '{\"I always walk to supermarket\": [-1, -1], \"I take bicycle to office\": [-1, -1], \"Having a well-insulated, energy-efficient home\": [1, -1], \"I use water heater at home\": [-1, 1]}'}, 'id': 'MEBS6vBth', 'type': 'tool_call'}\n",
            "Back to the model!\n"
          ]
        }
      ]
    },
    {
      "cell_type": "markdown",
      "source": [
        "**Showcasing agent workflow**"
      ],
      "metadata": {
        "id": "ciB4Ub2r2zMb"
      }
    },
    {
      "cell_type": "code",
      "source": [
        "\n",
        "for m in result['messages']:\n",
        "    m.pretty_print()"
      ],
      "metadata": {
        "colab": {
          "base_uri": "https://localhost:8080/"
        },
        "id": "HR5k2zKa7Kg7",
        "outputId": "76994cae-b8cf-4acc-df7c-121605996cc0"
      },
      "execution_count": null,
      "outputs": [
        {
          "output_type": "stream",
          "name": "stdout",
          "text": [
            "================================\u001b[1m Human Message \u001b[0m=================================\n",
            "\n",
            "I always walk to supermarket, I take bicycle to office, Having a well-insulated, energy-efficient home, I use water heater at home\n",
            "==================================\u001b[1m Ai Message \u001b[0m==================================\n",
            "Tool Calls:\n",
            "  climate_impact_compass (MEBS6vBth)\n",
            " Call ID: MEBS6vBth\n",
            "  Args:\n",
            "    choices: ['I always walk to supermarket', 'I take bicycle to office', 'Having a well-insulated, energy-efficient home', 'I use water heater at home']\n",
            "    llm_response: {\"I always walk to supermarket\": [-1, -1], \"I take bicycle to office\": [-1, -1], \"Having a well-insulated, energy-efficient home\": [1, -1], \"I use water heater at home\": [-1, 1]}\n",
            "=================================\u001b[1m Tool Message \u001b[0m=================================\n",
            "Name: climate_impact_compass\n",
            "\n",
            "/tmp/climate_compass.png\n",
            "==================================\u001b[1m Ai Message \u001b[0m==================================\n",
            "\n",
            "/tmp/climate_compass.png\n"
          ]
        }
      ]
    },
    {
      "cell_type": "markdown",
      "source": [
        "**Printing last message**"
      ],
      "metadata": {
        "id": "NSyCHvit2453"
      }
    },
    {
      "cell_type": "code",
      "source": [
        "print(result['messages'][-1].content)"
      ],
      "metadata": {
        "colab": {
          "base_uri": "https://localhost:8080/"
        },
        "id": "m1X1hp-57KkT",
        "outputId": "b7433ebc-4ac6-4bd1-c609-a8c225775bba"
      },
      "execution_count": null,
      "outputs": [
        {
          "output_type": "stream",
          "name": "stdout",
          "text": [
            "/tmp/climate_compass.png\n"
          ]
        }
      ]
    },
    {
      "cell_type": "markdown",
      "source": [
        "**Visualizing the result**"
      ],
      "metadata": {
        "id": "cuBio6YB3Lc2"
      }
    },
    {
      "cell_type": "code",
      "source": [
        "from IPython.display import Image, display\n",
        "\n",
        "display(Image(\"/tmp/climate_compass.png\"))\n"
      ],
      "metadata": {
        "colab": {
          "base_uri": "https://localhost:8080/",
          "height": 943
        },
        "id": "snWlkm987KnX",
        "outputId": "46ec7e4b-c502-4b58-9f1a-c4969e9e092e"
      },
      "execution_count": null,
      "outputs": [
        {
          "output_type": "display_data",
          "data": {
            "image/png": "[encoded data removed]",
            "text/plain": [
              "<IPython.core.display.Image object>"
            ]
          },
          "metadata": {}
        }
      ]
    },
    {
      "cell_type": "markdown",
      "source": [
        "**Conclusion:**"
      ],
      "metadata": {
        "id": "_w4y-n1I3hSx"
      }
    },
    {
      "cell_type": "markdown",
      "source": [
        "Built an AI agent successfully using Mistral LLM model and LangGraph agent framework that generates the  2x2 quadrant by mapping person's lifestyle choices."
      ],
      "metadata": {
        "id": "vh4Lv5HJ3kKZ"
      }
    },
    {
      "cell_type": "code",
      "source": [],
      "metadata": {
        "id": "U-6Og8H4sE0D"
      },
      "execution_count": null,
      "outputs": []
    }
  ]
}